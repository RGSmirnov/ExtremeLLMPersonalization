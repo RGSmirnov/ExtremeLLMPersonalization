{
 "cells": [
  {
   "cell_type": "code",
   "execution_count": null,
   "id": "5ab76346-1cc6-4956-9ef1-1cd32d8d0e94",
   "metadata": {},
   "outputs": [],
   "source": [
    "from openai import OpenAI\n",
    "\n",
    "def generate_openai(message): \n",
    "    api_key = \"...\"\n",
    "    client = OpenAI(api_key = api_key)\n",
    "    temperature = 0.0\n",
    "    \n",
    "    message_log = [\n",
    "        {\"role\": \"system\", \"content\": \"You are a helpful assistant.\"},\n",
    "        {\"role\": \"user\", \"content\": message}\n",
    "    ]\n",
    "    response = client.chat.completions.create(\n",
    "                model='gpt-4.1-mini', \n",
    "                messages=message_log,   \n",
    "                max_tokens=512,\n",
    "                temperature=temperature,      \n",
    "            )\n",
    "    return response.choices[0].message.content\n",
    "\n",
    "\n"
   ]
  },
  {
   "cell_type": "code",
   "execution_count": 2,
   "id": "f2efcf89-ac9a-4cf8-b6b4-2372b7d12937",
   "metadata": {},
   "outputs": [],
   "source": [
    "import json\n",
    "\n",
    "with_dropout = []\n",
    "without_dropout = []\n",
    "\n",
    "with open(\"with_dropout_2000.jsonl\", \"r\") as file:\n",
    "    for line in file:\n",
    "        with_dropout.append(json.loads(line))\n",
    "\n",
    "with open(\"without_dropout_2000.jsonl\", \"r\") as file:\n",
    "    for line in file:\n",
    "        without_dropout.append(json.loads(line))"
   ]
  },
  {
   "cell_type": "code",
   "execution_count": null,
   "id": "efb21f72",
   "metadata": {},
   "outputs": [],
   "source": [
    "import numpy as np\n",
    "\n",
    "my_styles = []\n",
    "input_styles = []\n",
    "gpt_styles = []\n",
    "\n",
    "my_ai = []\n",
    "input_ai = []\n",
    "gpt_ai = []\n",
    "\n",
    "my_best_styles = []\n",
    "input_best_styles = []\n",
    "gpt_best_styles = []\n",
    "\n",
    "for x in with_dropout:\n",
    "    if True:#\"Subject:\" not in x['input_text']:\n",
    "        cos = x['my_scores']['cosines']\n",
    "        max_index = np.argmax(cos)\n",
    "        max_value = np.max(cos)\n",
    "\n",
    "        my_styles.append(max_value)\n",
    "        my_best_styles.append(max_index)\n",
    "        my_ai.append(x['my_scores']['detector_reward'])\n",
    "\n",
    "        cos = x['input_scores']['cosines']\n",
    "        max_index = np.argmax(cos)\n",
    "        max_value = np.max(cos)\n",
    "\n",
    "        input_styles.append(max_value)\n",
    "        input_best_styles.append(max_index)\n",
    "        input_ai.append(x['input_scores']['detector_reward'])\n",
    "\n",
    "        cos = x['gpt_scores']['cosines']\n",
    "        max_index = np.argmax(cos)\n",
    "        max_value = np.max(cos)\n",
    "\n",
    "        gpt_styles.append(max_value)\n",
    "        gpt_best_styles.append(max_index)\n",
    "        gpt_ai.append(x['gpt_scores']['detector_reward'])\n",
    "\n",
    "\n",
    "np.mean(my_styles), np.mean(input_styles), np.mean(gpt_styles)"
   ]
  },
  {
   "cell_type": "code",
   "execution_count": null,
   "id": "20d7d0fa",
   "metadata": {},
   "outputs": [],
   "source": [
    "np.mean(my_ai), np.mean(input_ai), np.mean(gpt_ai)"
   ]
  },
  {
   "cell_type": "code",
   "execution_count": null,
   "id": "eb144ea5",
   "metadata": {},
   "outputs": [],
   "source": [
    "from collections import Counter\n",
    "Counter(my_best_styles), Counter(input_best_styles), Counter(gpt_best_styles)"
   ]
  },
  {
   "cell_type": "code",
   "execution_count": null,
   "id": "df09598d-6c92-4511-a3e2-bc0aaf82b98a",
   "metadata": {
    "scrolled": true
   },
   "outputs": [
    {
     "data": {
      "text/plain": [
       "18"
      ]
     },
     "execution_count": 4,
     "metadata": {},
     "output_type": "execute_result"
    }
   ],
   "source": [
    "# I see the bias in case we have word \"Subject:\" at the beginning\n",
    "\n",
    "rebuilt = {}\n",
    "count = 0\n",
    "for x in with_dropout:\n",
    "    if \"Subject:\" not in x['input_text']:\n",
    "        count+=1\n",
    "        for k,v in x.items():\n",
    "            if \"score\" in k:\n",
    "                for ik,iv in v.items():\n",
    "                    if k+\"_\"+ik in rebuilt:\n",
    "                        rebuilt[k+\"_\"+ik].append(iv)\n",
    "                    else:\n",
    "                        rebuilt[k+\"_\"+ik] = [iv]\n",
    "count"
   ]
  },
  {
   "cell_type": "code",
   "execution_count": 7,
   "id": "f910c15d",
   "metadata": {},
   "outputs": [
    {
     "name": "stderr",
     "output_type": "stream",
     "text": [
      "100%|██████████| 40/40 [03:27<00:00,  5.18s/it]\n"
     ]
    }
   ],
   "source": [
    "import random\n",
    "from tqdm import tqdm\n",
    "\n",
    "def gudge(reference, answer_a, answer_b):\n",
    "    gpt_judge_prompt = f'''Please act as an impartial judge and evaluate the quality of the responses provided by two AI assistants to the user question displayed below.\n",
    "Your evaluation should consider factors such as the helpfulness, relevance, accuracy, depth, creativity, and level of detail of their responses.\n",
    "Begin your evaluation by comparing the two responses and provide a short explanation. \n",
    "Avoid any position biases and ensure that the order in which the responses were presented does not influence your decision. \n",
    "Do not allow the length of the responses to influence your evaluation. Do not favor certain names of the assistants.\n",
    "Be as objective as possible. After providing your explanation, output your final verdict by strictly following this format: \"[[A]]\" if assistant A is better, \"[[B]]\" if assistant B is better, and \"[[C]]\" for a tie.\n",
    "\n",
    "The task agents are solving - they are rewriting the reference text.\n",
    "The text created by assistant should maintain the same meaning as the reference text.\n",
    "The text created by assistant should maintain correct grammar. Small mistakes are allowed.\n",
    "\n",
    "[Reference text]\n",
    "{reference}\n",
    "[End of reference text]\n",
    "\n",
    "[The Start of Assistant A's Answer]\n",
    "{answer_a}\n",
    "[The End of Assistant A's Answer]\n",
    "[The Start of Assistant B's Answer]\n",
    "{answer_b}\n",
    "[The End of Assistant B's Answer]'''\n",
    "    return generate_openai(gpt_judge_prompt)\n",
    "    \n",
    "judgements = []\n",
    "with tqdm(total = len(with_dropout)) as pbar:\n",
    "    for obj in with_dropout:\n",
    "        a = obj['rewritten_text_my']\n",
    "        b = obj['rewritten_text_gpt']\n",
    "        c = obj['input_text']\n",
    "\n",
    "        if random.random()>0.5:\n",
    "            first = a\n",
    "            second = b\n",
    "            first_mine = True\n",
    "        else:\n",
    "            first = b\n",
    "            second = a\n",
    "            first_mine = False\n",
    "\n",
    "        g = gudge(c, a,b)\n",
    "        judgements.append({\"first_mine\": first_mine, \"judgement\": g})\n",
    "        pbar.update(1)"
   ]
  },
  {
   "cell_type": "code",
   "execution_count": 8,
   "id": "7b3863b1",
   "metadata": {},
   "outputs": [
    {
     "name": "stderr",
     "output_type": "stream",
     "text": [
      "100%|██████████| 40/40 [03:23<00:00,  5.09s/it]\n"
     ]
    }
   ],
   "source": [
    "judgements_without_dropout = []\n",
    "with tqdm(total = len(without_dropout)) as pbar:\n",
    "    for obj in without_dropout:\n",
    "        a = obj['rewritten_text_my']\n",
    "        b = obj['rewritten_text_gpt']\n",
    "        c = obj['input_text']\n",
    "\n",
    "        if random.random()>0.5:\n",
    "            first = a\n",
    "            second = b\n",
    "            first_mine = True\n",
    "        else:\n",
    "            first = b\n",
    "            second = a\n",
    "            first_mine = False\n",
    "\n",
    "        g = gudge(c, first, second)\n",
    "        judgements_without_dropout.append({\"first_mine\": first_mine, \"judgement\": g})\n",
    "        pbar.update(1)"
   ]
  },
  {
   "cell_type": "code",
   "execution_count": null,
   "id": "ab900753",
   "metadata": {},
   "outputs": [
    {
     "data": {
      "text/plain": [
       "(16, 23, 1)"
      ]
     },
     "execution_count": 9,
     "metadata": {},
     "output_type": "execute_result"
    }
   ],
   "source": [
    "# judgements for with dropout samples\n",
    "mine = 0\n",
    "gpt = 0\n",
    "tie = 0\n",
    "for x in judgements:\n",
    "    if x['first_mine']:\n",
    "        if \"[[A]]\" in x['judgement']:\n",
    "            mine+=1\n",
    "        elif \"[[B]]\" in x['judgement']:\n",
    "            gpt+=1\n",
    "        else:\n",
    "            tie+=1\n",
    "    else:\n",
    "        if \"[[A]]\" in x['judgement']:\n",
    "            gpt+=1\n",
    "        elif \"[[B]]\" in x['judgement']:\n",
    "            mine+=1\n",
    "        else:\n",
    "            tie+=1\n",
    "mine, gpt, tie"
   ]
  },
  {
   "cell_type": "code",
   "execution_count": null,
   "id": "40b265b4",
   "metadata": {},
   "outputs": [
    {
     "data": {
      "text/plain": [
       "(0, 40, 0)"
      ]
     },
     "execution_count": 10,
     "metadata": {},
     "output_type": "execute_result"
    }
   ],
   "source": [
    "# judgements for without dropout samples\n",
    "mine = 0\n",
    "gpt = 0\n",
    "tie = 0\n",
    "for x in judgements_without_dropout:\n",
    "    if x['first_mine']:\n",
    "        if \"[[A]]\" in x['judgement']:\n",
    "            mine+=1\n",
    "        elif \"[[B]]\" in x['judgement']:\n",
    "            gpt+=1\n",
    "        else:\n",
    "            tie+=1\n",
    "    else:\n",
    "        if \"[[A]]\" in x['judgement']:\n",
    "            gpt+=1\n",
    "        elif \"[[B]]\" in x['judgement']:\n",
    "            mine+=1\n",
    "        else:\n",
    "            tie+=1\n",
    "mine, gpt, tie"
   ]
  },
  {
   "cell_type": "code",
   "execution_count": null,
   "id": "6a4e4273",
   "metadata": {},
   "outputs": [],
   "source": []
  }
 ],
 "metadata": {
  "kernelspec": {
   "display_name": "rewriter-IhiCppXx-py3.12",
   "language": "python",
   "name": "python3"
  },
  "language_info": {
   "codemirror_mode": {
    "name": "ipython",
    "version": 3
   },
   "file_extension": ".py",
   "mimetype": "text/x-python",
   "name": "python",
   "nbconvert_exporter": "python",
   "pygments_lexer": "ipython3",
   "version": "3.12.4"
  }
 },
 "nbformat": 4,
 "nbformat_minor": 5
}
