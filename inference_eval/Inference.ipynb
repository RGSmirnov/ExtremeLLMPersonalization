{
 "cells": [
  {
   "cell_type": "code",
   "execution_count": null,
   "id": "0414e235",
   "metadata": {},
   "outputs": [
    {
     "data": {
      "application/vnd.jupyter.widget-view+json": {
       "model_id": "d1ea7c190f3647858f8baae359027f4a",
       "version_major": 2,
       "version_minor": 0
      },
      "text/plain": [
       "Loading checkpoint shards:   0%|          | 0/3 [00:00<?, ?it/s]"
      ]
     },
     "metadata": {},
     "output_type": "display_data"
    }
   ],
   "source": [
    "from transformers import LlamaForCausalLM, AutoTokenizer\n",
    "import torch\n",
    "from peft import PeftModel\n",
    "\n",
    "model_id = \"/workspace/pretuned_llama\"\n",
    "model = LlamaForCausalLM.from_pretrained(model_id).eval().to(torch.device('cuda'))\n",
    "tokenizer = AutoTokenizer.from_pretrained(model_id)\n",
    "\n",
    "# path to the 2k steps checkpoint with or without reward dropout\n",
    "model = PeftModel.from_pretrained(model, \"/workspace/with_dropout_2000\")"
   ]
  },
  {
   "cell_type": "code",
   "execution_count": null,
   "id": "1d682ba9-292b-4dac-ba7d-abd8b35d5260",
   "metadata": {},
   "outputs": [],
   "source": [
    "# from rl training part from the rewards.py\n",
    "from rewards import Rewards\n",
    "\n",
    "r = Rewards()\n",
    "\n",
    "def do_rewrite(inp):\n",
    "    message_log = [\n",
    "        {\"role\": \"user\", \"content\": inp},\n",
    "    ]\n",
    "    text_messages = tokenizer.apply_chat_template(message_log, add_generation_prompt=True, tokenize=False)\n",
    "    text_messages = \"<|begin_of_text|>\"+text_messages.split(\"<|eot_id|>\",1)[1]\n",
    "    inputs = tokenizer(text_messages,return_tensors = \"pt\")\n",
    "    generated = model.generate(**inputs.to(torch.device('cuda')), max_new_tokens = 250, do_sample = True, temperature=0.7)\n",
    "    clear_output = tokenizer.decode(generated[0]).rsplit(\"Rewritten:\",1)[-1].rsplit(\"<|eot_id|>\",1)[0].strip()\n",
    "    r([message_log[-1]['content']], [\"Rewritten:\\n\"+clear_output])\n",
    "    r([message_log[-1]['content']], [\"Rewritten:\\n\"+message_log[-1]['content']])\n",
    "    return clear_output"
   ]
  },
  {
   "cell_type": "code",
   "execution_count": 20,
   "id": "10037825-cb79-45a3-b82a-df7b57711470",
   "metadata": {},
   "outputs": [],
   "source": [
    "# do GPT rewrite\n",
    "from datasets import load_dataset\n",
    "import random\n",
    "\n",
    "random.seed(12)\n",
    "\n",
    "dataset_1 = [x['response'] for x in load_dataset(\"RafaM97/marketing_social_media\")['train']]\n",
    "random.shuffle(dataset_1)\n",
    "dataset_2 = [x['marketing_email'] for x in load_dataset(\"Isotonic/marketing_email_samples\")['train']]\n",
    "random.shuffle(dataset_2)\n",
    "dataset_1 = dataset_1[:10]\n",
    "dataset_2 = dataset_2[:10]\n",
    "dataset = dataset_1+dataset_2"
   ]
  },
  {
   "cell_type": "code",
   "execution_count": null,
   "id": "5ab76346-1cc6-4956-9ef1-1cd32d8d0e94",
   "metadata": {},
   "outputs": [],
   "source": [
    "from openai import OpenAI\n",
    "\n",
    "def generate_openai(message, remove_template = True, style_references = None): \n",
    "    api_key = \"...\"\n",
    "    client = OpenAI(api_key = api_key)\n",
    "    temperature = 0.7\n",
    "    if style_references:\n",
    "        style_references = \"Rewrite to make the content following the user's style. Some examples of the user's messages:\\n\"+\"\\n\".join([str(i+1)+\". \"+x for i,x in enumerate(style_references)])\n",
    "    if remove_template:\n",
    "        message_log = [\n",
    "            {\"role\": \"system\", \"content\": \"You are a helpful assistant. Rewrite the message to exclude any template marks if there are any - you can insert some values there. Start you answer with the word \\\"Rewritten: \\\"\"},\n",
    "            {\"role\": \"user\", \"content\": message}\n",
    "        ]\n",
    "    else:\n",
    "        message_log = [\n",
    "            {\"role\": \"system\", \"content\": \"You are a helpful assistant. Rewrite the message. Start you answer with the word \\\"Rewritten: \\\"\"},\n",
    "            {\"role\": \"user\", \"content\": message}\n",
    "        ]\n",
    "    if style_references:\n",
    "        message_log[0]['content'] = \"You are a helpful assistant.\\n\" + style_references + \"\\n\" + message_log[0]['content'].split(\"You are a helpful assistant.\")[-1].strip()\n",
    "    response = client.chat.completions.create(\n",
    "                model='gpt-4o-mini', \n",
    "                messages=message_log,   \n",
    "                max_tokens=512,\n",
    "                temperature=temperature,      \n",
    "            )\n",
    "    return response.choices[0].message.content.rsplit(\"Rewritten:\", 1)[-1].strip()\n",
    "\n",
    "style_examples = [\n",
    "            \"Good evening Sir or Madam, I would like to introduce myself.\",\n",
    "            \"Lori's gonna rock being boss at HiTOPS; she'll seriously push things forward.\", # informal# \"Hey dude, what's up? Such a funny story I have in my mind to share\",\n",
    "            \"Wow :-), I'll advocate for Blanco's dedication to ethical business, and CRT membership =D!\" # Text emojies #\"Telling the truth - I really hate it, if you do it one more time you will experience consequences!\"\n",
    "        ]\n",
    "\n",
    "# augment data and generate GPT responses with few-shots-based style cloning\n",
    "synthetic_inputs = [generate_openai(x) for x in dataset]\n",
    "restyled = [generate_openai(x, style_references = style_examples) for x in dataset+synthetic_inputs]\n"
   ]
  },
  {
   "cell_type": "code",
   "execution_count": null,
   "id": "622a6c8f-7401-408a-a21b-9a727facef8b",
   "metadata": {},
   "outputs": [],
   "source": [
    "from tqdm import tqdm\n",
    "\n",
    "model_rewritten = []\n",
    "with tqdm(total = len(dataset+synthetic_inputs)) as pbar:\n",
    "    for x in dataset+synthetic_inputs:\n",
    "        model_rewritten.append(do_rewrite(x))\n",
    "        pbar.update(1)"
   ]
  },
  {
   "cell_type": "code",
   "execution_count": 94,
   "id": "2636b225-4242-48fa-ac3c-579c05a9180b",
   "metadata": {},
   "outputs": [],
   "source": [
    "r = Rewards()"
   ]
  },
  {
   "cell_type": "code",
   "execution_count": 95,
   "id": "98d1b554-c370-4d9c-9303-c79389c571ff",
   "metadata": {
    "scrolled": true
   },
   "outputs": [
    {
     "name": "stderr",
     "output_type": "stream",
     "text": [
      "  0%|          | 0/40 [00:00<?, ?it/s]/tmp/ipykernel_14790/1193313071.py:169: UserWarning: std(): degrees of freedom is <= 0. Correction should be strictly less than the reduction factor (input numel divided by output numel). (Triggered internally at /pytorch/aten/src/ATen/native/ReduceOps.cpp:1831.)\n",
      "  entropy_outer = torch.std(p_outer, dim = 1)#-1*torch.sum(p_outer*torch.log(p_outer), dim = 1)\n",
      "100%|██████████| 40/40 [00:15<00:00,  2.55it/s]\n"
     ]
    }
   ],
   "source": [
    "results = []\n",
    "with tqdm(total=len(dataset+synthetic_inputs)) as pbar:\n",
    "    for my, gpt, inp in zip(model_rewritten, restyled, dataset+synthetic_inputs):\n",
    "        results.append({\n",
    "            \"my_scores\": r([inp], [\"Rewritten:\\n\"+my], return_dict=True),\n",
    "            \"gpt_scores\": r([inp], [\"Rewritten:\\n\"+gpt], return_dict=True),\n",
    "            \"input_scores\": r([inp], [\"Rewritten:\\n\"+inp], return_dict=True),\n",
    "            \"input_text\": inp,\n",
    "            \"rewritten_text_gpt\": gpt, \n",
    "            \"rewritten_text_my\": my, \n",
    "        })\n",
    "        pbar.update(1)"
   ]
  },
  {
   "cell_type": "code",
   "execution_count": 97,
   "id": "19d0017c-34ef-4528-b01d-4fd411f7ee56",
   "metadata": {
    "scrolled": true
   },
   "outputs": [],
   "source": [
    "import json\n",
    "\n",
    "with open(\"with_dropout_2000.jsonl\",\"w\") as file:\n",
    "    for obj in results:\n",
    "        file.write(json.dumps(obj)+\"\\n\")"
   ]
  },
  {
   "cell_type": "code",
   "execution_count": null,
   "id": "964c182a-4bc7-400d-965b-a866dba674ca",
   "metadata": {},
   "outputs": [],
   "source": []
  }
 ],
 "metadata": {
  "kernelspec": {
   "display_name": "Python 3 (ipykernel)",
   "language": "python",
   "name": "python3"
  },
  "language_info": {
   "codemirror_mode": {
    "name": "ipython",
    "version": 3
   },
   "file_extension": ".py",
   "mimetype": "text/x-python",
   "name": "python",
   "nbconvert_exporter": "python",
   "pygments_lexer": "ipython3",
   "version": "3.11.10"
  }
 },
 "nbformat": 4,
 "nbformat_minor": 5
}
